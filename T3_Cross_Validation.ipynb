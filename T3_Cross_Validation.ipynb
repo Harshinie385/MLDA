{
  "nbformat": 4,
  "nbformat_minor": 0,
  "metadata": {
    "colab": {
      "provenance": []
    },
    "kernelspec": {
      "name": "python3",
      "display_name": "Python 3"
    },
    "language_info": {
      "name": "python"
    }
  },
  "cells": [
    {
      "cell_type": "code",
      "metadata": {
        "colab": {
          "base_uri": "https://localhost:8080/"
        },
        "id": "5a5c4380",
        "outputId": "c1fecee8-f9ee-4877-844f-ba77807a3f6b"
      },
      "source": [
        "from sklearn.preprocessing import StandardScaler\n",
        "from sklearn.compose import ColumnTransformer\n",
        "from sklearn.pipeline import Pipeline\n",
        "\n",
        "# Define numerical features to scale\n",
        "numerical_features = X.select_dtypes(include=np.number).columns\n",
        "\n",
        "# Create a column transformer to apply scaling to numerical features\n",
        "preprocessor = ColumnTransformer(\n",
        "    transformers=[\n",
        "        ('num', StandardScaler(), numerical_features)\n",
        "    ],\n",
        "    remainder='passthrough'\n",
        ")\n",
        "\n",
        "# Create pipelines for each classifier with preprocessing\n",
        "clf1_pipeline = Pipeline(steps=[('preprocessor', preprocessor),\n",
        "                               ('classifier', DecisionTreeClassifier(random_state=42))])\n",
        "\n",
        "clf2_pipeline = Pipeline(steps=[('preprocessor', preprocessor),\n",
        "                               ('classifier', LogisticRegression(max_iter=1000))])\n",
        "\n",
        "# K-Fold Cross Validation\n",
        "k_folds = KFold(n_splits=10, shuffle=True, random_state=42)\n",
        "\n",
        "# Cross validation scores with pipelines\n",
        "scores1_scaled = cross_val_score(clf1_pipeline, X, y, cv=k_folds)\n",
        "scores2_scaled = cross_val_score(clf2_pipeline, X, y, cv=k_folds)\n",
        "\n",
        "# Results\n",
        "print(\"Decision Tree (Scaled Data) - Cross Validation Scores: \", scores1_scaled)\n",
        "print(\"Logistic Regression (Scaled Data) - Cross Validation Scores: \", scores2_scaled)\n",
        "\n",
        "print(\"Decision Tree (Scaled Data) - Average CV Score: \", scores1_scaled.mean())\n",
        "print(\"Logistic Regression (Scaled Data) - Average CV Score: \", scores2_scaled.mean())"
      ],
      "execution_count": 6,
      "outputs": [
        {
          "output_type": "stream",
          "name": "stdout",
          "text": [
            "Decision Tree (Scaled Data) - Cross Validation Scores:  [0.63861386 0.60199005 0.6318408  0.6318408  0.64179104 0.55721393\n",
            " 0.62686567 0.59701493 0.64676617 0.62189055]\n",
            "Logistic Regression (Scaled Data) - Cross Validation Scores:  [0.60891089 0.53731343 0.6119403  0.60696517 0.64676617 0.6119403\n",
            " 0.52736318 0.58706468 0.60696517 0.6318408 ]\n",
            "Decision Tree (Scaled Data) - Average CV Score:  0.6195827791734396\n",
            "Logistic Regression (Scaled Data) - Average CV Score:  0.5977070095069208\n"
          ]
        }
      ]
    }
  ]
}